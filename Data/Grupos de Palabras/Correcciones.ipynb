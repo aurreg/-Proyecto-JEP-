{
 "cells": [
  {
   "cell_type": "markdown",
   "id": "fd27a2d6-a8b5-4be6-987c-994c4b762a00",
   "metadata": {},
   "source": [
    "--\r\n",
    "\r\n",
    "# **Correction of Misspelled Words with OpenAI**  \r\n",
    "\r\n",
    "**Authors**  \r\n",
    "- Alejandro Urrego López  \r\n",
    "- Cesar Augusto Prieto Sarmiento  \r\n",
    "\r\n",
    "This Python notebook contains the implementation of a code designed to correct misspelled words that may have resulted from text processing errors in a document."
   ]
  },
  {
   "cell_type": "code",
   "execution_count": 1,
   "id": "b82e2b97-d183-4504-9fdf-b94c4adce300",
   "metadata": {},
   "outputs": [],
   "source": [
    "import pandas as pd   # For data manipulations\n",
    "import numpy as np    # For maths\n",
    "import igraph as ig   # For networks \n",
    "import openai        # AI implementations\n",
    "from dotenv import load_dotenv\n",
    "\n",
    "import os\n",
    "load_dotenv()\n",
    "#openai.api_key "
   ]
  },
  {
   "cell_type": "code",
   "execution_count": 2,
   "id": "5bf89ef6-5fd2-4f62-8bd4-e9bbaf285796",
   "metadata": {},
   "outputs": [
    {
     "data": {
      "text/plain": [
       "'C:\\\\Users\\\\Pc\\\\Desktop\\\\Grupos de Palabras'"
      ]
     },
     "execution_count": 2,
     "metadata": {},
     "output_type": "execute_result"
    }
   ],
   "source": [
    " os.getcwd()"
   ]
  },
  {
   "cell_type": "markdown",
   "id": "f680d530-c515-4ab3-aabe-cde4df01b221",
   "metadata": {},
   "source": [
    "## Development and research of topics "
   ]
  },
  {
   "cell_type": "code",
   "execution_count": 3,
   "id": "46e5c9d6-9f64-490b-8feb-8339819d6d9a",
   "metadata": {},
   "outputs": [],
   "source": [
    "subtitulos = pd.read_csv(r'C:\\Users\\Pc\\Desktop\\-Proyecto-JEP-\\Data\\conteo_tokens.csv')\n",
    "subtitulos=subtitulos['Token']"
   ]
  },
  {
   "cell_type": "code",
   "execution_count": 4,
   "id": "77e700b9-3c3d-4357-86f7-42a0e7c49a0c",
   "metadata": {},
   "outputs": [],
   "source": [
    "# Convertir los subtítulos en una sola cadena de texto\n",
    "texto_completo = \" \".join(subtitulos)\n",
    "\n",
    "# Función para dividir el texto en bloques de 100 palabras\n",
    "def dividir_en_bloques(texto, num_palabras=100):\n",
    "    palabras = texto.split()\n",
    "    return [\" \".join(palabras[i:i+num_palabras]) for i in range(0, len(palabras), num_palabras)]\n",
    "\n",
    "# Dividir el texto en bloques de 100 palabras\n",
    "bloques = dividir_en_bloques(texto_completo)\n",
    "\n",
    "# Lista para almacenar las respuestas\n",
    "respuestas = []"
   ]
  },
  {
   "cell_type": "code",
   "execution_count": 5,
   "id": "0d4953ca-1fca-45f6-ae5b-63fb715e59bf",
   "metadata": {},
   "outputs": [],
   "source": [
    "PromptInicio  = 'Utilizando la lista de palabras proporcionada a continuación, extrae una lista de palabras sin significado que pueda ser un error de los subtítulos generados automáticamente por YouTube: , [Inició lista]'\n",
    "\n",
    "PromptFinal = \"'[Fin lista]' Al contestar responde únicamente con una lista de los posibles errores.\"\n",
    "\n"
   ]
  },
  {
   "cell_type": "code",
   "execution_count": 6,
   "id": "a20528e8-a1b8-4974-a940-8082745612ee",
   "metadata": {},
   "outputs": [],
   "source": [
    "for bloque in bloques:\n",
    "    request = PromptInicio + \" \" + bloque + \" \" + PromptFinal\n",
    "    \n",
    "    try:\n",
    "        chat_completion = openai.chat.completions.create(\n",
    "            model=\"gpt-4-1106-preview\",  # Ajuste del modelo\n",
    "            messages=[\n",
    "                {\n",
    "                    \"role\": \"user\",\n",
    "                    \"content\": request,\n",
    "                }\n",
    "            ],\n",
    "            max_tokens=3000,  # Ajuste del número máximo de tokens\n",
    "            temperature=0.5,  # Controlar la creatividad\n",
    "            top_p=1  # Establecer el valor de probabilidad para respuestas más precisas\n",
    "        )\n",
    "        \n",
    "        respuesta = chat_completion.choices[0].message.content\n",
    "        respuestas.append(respuesta)  # Guardar la respuesta en la lista\n",
    "        \n",
    "    except Exception as e:\n",
    "        print(f\"Error al obtener la respuesta para el bloque: {bloque}. Detalles: {e}\")"
   ]
  },
  {
   "cell_type": "code",
   "execution_count": 7,
   "id": "81b99909-a821-498c-8882-97a5320ffb47",
   "metadata": {},
   "outputs": [
    {
     "name": "stdout",
     "output_type": "stream",
     "text": [
      "['sar', 's', 'tuvir', 'veredir', 'lleguér', 'abrigada', 'ahorita', 'magdaleno', 'c', 'caperar', 'comante', 'far', 'digám', 'bogotar', 'octubrir', 'públicar', 'llgar', 'escuadrar', 'jurídicar', 'tr', 'qu', 'ctú', 'reibar', 'urab', 'jep', 'berlín', 'neiva', 'luis', 'hila', 'antioquia', 'je', 'romero', 'huilo', 'sabrir', 'fernar', 'daiva', 'érar', 'salamancar', 'carepar', 'de', 'pigoanza', 'estuvierar', 'seor', 'ln', 'x', 'específicar', 'entr', 'p', 'ario', 'cárdena', 'sento', 'jorgir', 'virno', 'dinamarcar', 'npr', 'jaimir', 'algesira', 'nn', 'oigar', 'tod', 'u', 'wilser', 'discúlpemer', 'trámitir', 'sarento', 'rameli', 'sabíar', 'dierar', 'tomér', 'araucar', 'mutatar', 'beir', 'sinair', 'reiro', 'queder', 'william', 'mm', 'convitar', 'quear', 'hm', 'doora', 'hugo', 'obrigada', 'v', 'raíz', 'repitar', 'teófilo', 'l', 'birno', 'llamér', 'abrer', 'habler', 'salíar', 'cocar', 'crucir', 'rutar', 'viner', 'indirectar', 'cometida', 'afuerar', 'trair', 'muestrar', 'presntar', 'pigan', 'trajr', 'isno', 'envir', 'empresar', 'vainar', 'doct', 'ediser', 'hable', 'choa', 'cor', 'ac', 'vierne', 'ituango', 'maecha', 'momentico', 'baj', 'bcg', 'hágalir', 'magistr', 'ta', 'rilla', 'llegarar', 'quisiérar', 'anzar', 'mocho', 'veníar', 'eraa', 'lleg', 'uribir', 'mirir', 'tenar', 'ación', 'itango', 'encontrábar', 'ust', 'habir', 'vegar', 'ord', 'decirno', 'presentarar', 'refirer', 'explíqueno', 'llevarar', 'permitar', 'cco', 'viví', 'daa', 'j', 'iniciativo', 'rimir', 'ucho', 'yair', 'contr', 'em', 'gavii', 'llever', 'perteneciar', 'procederer', 'ramel', 'águilo', 'lescano', 'toe', 'fredy', 'hernar', 'leyr', 'límitir', 'firmér', 'vázquez', 'infórmeno', 'sio', 'quedarar', 'aiva', 'dígano', 'perdoner', 'llam', 'maestrar', 'pigu', 'vámono', 'deo', 'dándo', 'k', 'oa', 'tolemaido', 'nelser', 'quiñón', 'ester', 'omegar', 'repúblicar', 'cao', 'turcio', 'árbol', 'berrío', 'florencia', 'estr', 'ara', 'rí', 'remolina', 'sarama', 'caribir', 'volvar', 'perdónemer', 'suanchar', 'haciéndo', 'queo', 'fudra', 'campament', 'cundinamarcar', 'cumplar', 'decí', 'hablarar', 'sabido', 'saqué', 'julano', 'conel', 'cogimo', 'vear', 'bu', 'laa', 'paser', 'fuérar', 'llámr', 'comoo', 'hablábar', 'támara', 'cóm', 'quecán', 'suacha', 'excúsemer', 'vo', 'ana', 'cabanilla', 'cair', 'meder', 'suaza', 'tamb', 'ender', 'lación', 'llamém', 'poro', 'samir', 'póngalir', 'beltr', 'lozado', 'acander', 'daver', 'cuat', 'dígalir', 'toar', 'cuéntemer', 'prar', 'quierar', 'elr', 'brusela', 'explicarar', 'joyar', 'tendríar', 'continuarer', 'continuer', 'feur', 'sigar', 'corosal', 'maestrado', 'micel', 'estab', 'mon', 'ovidio', 'valcitar', 'chibat', 'chigorodar', 'estuviérar', 'letrar', 'parar-', 'torrer', 'conar', 'fu', 'guaviare', 'ión', 'jaimes', 'pued', 'álvaro', 'aar', 'mor', 'pe', 'rendón', 'furet', 'haer', 'vicencio', 'anaconar', 'nombr', 'entrarar', 'esperer', 'rivo', 'tuango', 'ovo', 'fabio', 'fr', 'yar', 'balsilla', 'ferney', 'danilo', 'll', 'sepulturero', 'caño', 'jueve', 'villar', 'agudelo', 'arizar', 'girardo', 'llevábar', 'londoño', 'salierar', 'haa', 'llegábar', 'sudaderar', 'tambén', 'asuyo', 'cer', 'jacobo', 'sr', 'buo', 'ch', 'marcolino', 'pudiérar', 'ariporo', 'bejarano', 'oeda', 'aa', 'dror', 'fabi', 'init', 'oiso', 'alg', 'buesaquillo', 'drct', 'paguay', 'argo', 'bolaño', 'herme', 'mirer', 'much', 'paraco', 'too', 'continur', 'quisierar', 'sobreviviente', 'suente', 'tobar', 'urar', 'áar', 'abigada', 'jaser', 'minutico', 'proferido', 'tendiente', 'tuviérar', 'ayudarar', 'grajal', 'miércol', 'amente', 'urquina', 'asim', 'coo', 'dctor', 'villega', 'cito', 'deción', 'irno', 'mocoa', 'oper', 'perdir', 'qued', 'reglar', 'timaná', 'vayar', 'cular', 'cuántar', 'sero', 'alistir', 'corrigir', 'entiendar', 'culma', 'guevarar', 'sabano', 'siguer', 'alumno', 'defensorir', 'estarer', 'indíqueno', 'lisarazo', 'tibaduizar', 'hábleno', 'lasa', 'macr', 'poquitico', 'willingtonr', 'ahoritica', 'bsg', 'deiva', 'entiend', 'ju', 'nar', 'suasa', 'habar', 'huera', 'carabalir', 'recojar', 'sig', 'jón', 'dejarar', 'dispararar', 'natagar', 'norar', 'prto', 'verad', 'vierar', 'fiber', 'pusir', 'heo', 'ición', 'guajirar', 'hiciérar', 'hil', 'dábar', 'sacarar', 'sácama', 'chavarrir', 'fondetec', 'mulc', 'patón', 'funjo', 'lombano', 'misica', 'oo', 'partecita', 'peque', 'recogimo', 'señoro', 'suscrita', 'vaquero', 'verido', 'devolvimo', 'ejerciar', 'fulanito', 'hr', 'lafar', 'mel', 'au', 'comprr', 'dond', 'macía', 'dabeir', 'ia', 'otr', 'panche', 'ramirar', 'ratico', 'retuver', 'suicial', 'tar', 'án', 'ospinar', 'pel', 'tesalia', 'recibíar', 'estaríar', 'estáar', 'piñal', 'cometir', 'contrer', 'llver', 'meto', 'estimir', 'precerer', 'vinir', 'aco', 'pernot', 'protegir', 'andábar', 'cuo', 'daar', 'dougla', 'hablir', 'lea', 'pig', 'prestir', 'sirver', 'spc', 'tení', 'unaa', 'asesinarar', 'enar', 'joh', 'presentár', 'sintir', 'dañr', 'banderar', 'enn', 'pisr', 'mimico', 'miso', 'supierar', 'aclarecer', 'competer', 'denuncer', 'enseñr', 'estener', 'fer', 'anotado', 'cupiagua', 'palechor', 'pongar', 'regaño', 'artiagar', 'conita', 'cuentir', 'enterar-', 'identificar-', 'mande', 'peloto', 'playón', 'pongámosle', 'acompañer', 'casique', 'considrir', 'elipuerto', 'legítir', 'monrar', 'movar', 'paguér', 'rubielar', 'conozcar', 'darer', 'déjemer', 'espinozar', 'haía', 'arcer.', 'geográficar', 'ibaguér', 'onato', 'frenar', '(si', 'se', 'refiere', 'a', '\"frenar\"', 'no', 'es', 'un', 'error', 'pero', 'si', 'es', 'una', 'transcripción', 'incorrecta', 'de', '\"frenar\"', 'podría', 'serlo)', 'eem', '(a', 'menos', 'que', 'sea', 'una', 'sigla', 'o', 'acrónimo', 'específico)', 'esar', '(si', 'es', 'un', 'error', 'de', '\"usar\"', 'o', '\"estar\")', 'farar', 'haar', '(a', 'menos', 'que', 'sea', 'una', 'transcripción', 'incorrecta', 'de', '\"haz\"', 'o', '\"hará\")', 'rindar', '(si', 'es', 'un', 'error', 'de', '\"brindar\")', 'losado', '(si', 'es', 'un', 'error', 'de', '\"cansado\"', 'o', '\"rosado\")', 'surcolombiano', '(si', 'se', 'refiere', 'a', '\"sur', 'colombiano\"', 'y', 'está', 'escrito', 'incorrectamente', 'como', 'una', 'sola', 'palabra)']\n"
     ]
    }
   ],
   "source": [
    "respuestas# Convertir las cadenas en una lista de palabras individuales\n",
    "palabras = []\n",
    "\n",
    "# Iterar sobre cada cadena\n",
    "for cadena in respuestas:\n",
    "    # Dividir por saltos de línea, comas y espacios\n",
    "    for palabra in cadena.replace('\\n', ' ').replace(',', ' ').split():\n",
    "        # Agregar la palabra a la lista eliminando espacios en blanco innecesarios\n",
    "        palabras.append(palabra.strip())\n",
    "\n",
    "# Imprimir la lista de palabras individuales\n",
    "print(palabras)"
   ]
  },
  {
   "cell_type": "code",
   "execution_count": 9,
   "id": "46f32529-10e4-4749-a432-faecaa4e1a54",
   "metadata": {},
   "outputs": [],
   "source": [
    "df = pd.DataFrame(palabras, columns=[\"Palabras\"])\n",
    "df.to_csv(\"palabras_errores_subs.txt\", index=False, header=False, sep='\\t')"
   ]
  },
  {
   "cell_type": "code",
   "execution_count": 60,
   "id": "4aef561f-0d33-442f-98a3-fcd7209e1c9a",
   "metadata": {},
   "outputs": [],
   "source": [
    "PromptInicio  = 'A partir de la lista de palabras proporcionada a continuación, identifica las posibles correcciones para los errores de lematización generados por UDPipe. Para cada palabra, genera una sugerencia de reemplazo. Si la palabra no se puede corregir, escribe \"NA\"., [Inició lista]'\n",
    "\n",
    "PromptFinal = \"'[Fin lista]'Al contestar, responde únicamente con la lista de posibles correcciones separadas con un  -  de la palabra que se debe corregir.\""
   ]
  },
  {
   "cell_type": "code",
   "execution_count": 61,
   "id": "fe38aa1c-2067-4247-9018-ae32e809f51f",
   "metadata": {},
   "outputs": [],
   "source": [
    "request = PromptInicio + \",\".join(palabras) + PromptFinal"
   ]
  },
  {
   "cell_type": "code",
   "execution_count": 62,
   "id": "0f332a26-2003-46d6-8922-7e7fb66f5fd1",
   "metadata": {},
   "outputs": [],
   "source": [
    "request = request\n",
    "chat_completion = openai.chat.completions.create(\n",
    "    messages=[\n",
    "        {\n",
    "            \"role\": \"user\",\n",
    "            \"content\": request,\n",
    "        }\n",
    "    ],\n",
    "    model=\"gpt-4-1106-preview\",\n",
    "    max_tokens=2000,  # Increase the number of tokens allowed\n",
    "    temperature=0.5,  # Reduce \"creativity\" to obtain precise responses\n",
    "    top_p=1,  # Adjust maximum probability to ensure precise responses\n",
    ")\n",
    "respuesta = chat_completion.choices[0].message.content\n"
   ]
  },
  {
   "cell_type": "code",
   "execution_count": 63,
   "id": "e23017b3-52aa-4c31-90dc-6619ff1ba0ab",
   "metadata": {},
   "outputs": [
    {
     "data": {
      "text/plain": [
       "'sar - ser\\ns - es\\ntuvir - tuvo\\nveredir - vereda\\nlleguér - llegué\\nabrigada - NA\\nahorita - NA\\nmagdaleno - magdalena\\ndaban - daban\\nm - NA\\nf - NA\\ncaperar - capturar\\ncomante - comandante\\ndigám - digamos\\nbogotar - bogotá\\noctubrir - octubre\\npúblicar - publicar\\nllgar - llegar\\njuar - jugar\\nescuadrar - escuadrón\\njurídicar - jurídico\\ntr - NA\\nqu - que\\ner - NA\\npoquito - NA\\nmunición - NA\\ngarcer - garza\\nctú - corte\\nsuber - subir\\nreibar - reír\\nurab - urabá\\njep - NA\\nberlín - NA\\nneiva - NA\\nluis - NA\\nhila - hiló\\nantioquia - NA\\nje - NA\\nromero - NA\\nhuilo - huila\\nsabrir - saber\\ngarzón - NA\\nhab - haber\\nfernar - fernando\\ndaiva - daño\\nar - NA\\nérar - errar\\nmir - mirar\\nper - NA\\npeña - NA\\nvener - venerar\\npapá - NA\\npanza - NA\\nsepa - NA\\nall - NA\\nsalamancar - salamanca\\nvero - ver\\nsur - NA\\nquinto - NA\\npu - NA\\ncarepar - reparar\\npigoanza - pigoanza\\nseor - señor\\nln - NA\\nespecíficar - especificar\\nentr - entrar\\np - NA\\nario - ario\\ncárdena - cárdene\\nsento - sentó\\njorgir - jorge\\nvirno - vino\\ndinamarcar - dinamarca\\nnpr - NA\\njaimir - jaime\\ncar - NA\\nalgesira - algecira\\nnn - NA\\noigar - oír\\ntod - todo\\nwilser - wilser\\ndiscúlpemer - discúlpeme\\ntrámitir - trámitir\\nsarento - sargento\\nrameli - ramelli\\nsabíar - sabía\\ndierar - diera\\ntomér - tomé\\naraucar - arauca\\nmutatar - mutatá\\nsinair - sinai\\nbeir - beber\\nreiro - reír\\nqueder - quedar\\ntauramena - NA\\nquear - quedar\\nhm - NA\\ndoora - dora\\nhugo - NA\\nv - NA\\nobrigada - obligada\\nvine - vino\\nrestrepo - NA\\nrepitar - repetir\\nteófilo - NA\\nl - NA\\njaviera - NA\\nbirno - vino\\nllamér - llame\\nabrer - abrir\\nhabler - hablar\\nsalíar - salir\\ncocar - cocer\\ncrucir - cruzar\\nrutar - ruta\\nviner - vino\\nindirectar - indirecto\\ncometida - NA\\nafuerar - afuera\\nmuestrar - mostrar\\npigan - pigan\\ntrajr - traer\\nisno - hisno\\nempresar - empresa\\nvainar - vaina\\ndoct - doctor\\nediser - edición\\nhable - hablar\\nchoa - choca\\ncor - correr\\nac - NA\\nvierne - viernes\\nmaecha - mecha\\nmomentico - NA\\nbaj - baja\\nbcg - NA\\ndígame - dígame\\nhágalir - hágalo\\nmagistr - magistrado\\nta - NA\\nrilla - orilla\\nllegarar - llegar\\nquisiérar - quisiera\\nanzar - avanzar\\nmocho - mocho\\nmu - mu\\nortiz - NA\\nsilva - NA\\nruiz - NA\\nbonilla - NA\\neraa - era\\nloso - loso\\nveníar - venía\\nsa - NA\\nlleg - llegar\\nuribir - uribe\\nmirir - mirar\\ntenar - tener\\nbat - batir\\nro - ro\\nación - acción\\nitango - NA\\nencontrábar - encontraba\\nsilvania - NA\\nust - usted\\ndomínguez - NA\\nhabir - haber\\nvegar - vega\\nord - orden\\ndecirno - decirnos\\npresentarar - presentar\\nrefirer - referir\\nexplíqueno - explíquenos\\nllevarar - llevar\\npermitar - permitir\\ncco - NA\\ndiar - día\\nlasprilla - NA\\nmandado - mandado\\npital - pital\\ndaa - daba\\nrimir - rimar\\nucho - mucho\\nyair - yahir\\ncontr - contra\\ngavii - gavi\\nllever - llevar\\nperteneciar - pertenecer\\nprocederer - proceder\\nramel - ramal\\náguilo - águila\\nlescano - lescano\\ntoe - NA\\nfredy - NA\\nhernar - hernar\\nleyr - leer\\nlímitir - limitar\\nfirmér - firmé\\not - NA\\ninfórmeno - infórmenos\\nsio - sío\\nquedarar - quedar\\naiva - ava\\ndígano - dígannos\\nllam - llamar\\nmaestrar - maestro\\npigu - pique\\nvámono - vámonos\\ndeo - deo\\ndándo - dando\\nk - NA\\noa - oa\\ntolemaido - tolemaida\\nnelser - nelson\\nquiñón - quiñones\\nester - ester\\nomegar - omega\\nrepúblicar - república\\ncao - cao\\nturcio - turco\\nabsolutar - absoluto\\nestr - estar\\nara - arar\\nrí - río\\nremolina - remolinar\\nsarama - sarama\\nvolvar - volver\\nperdónemer - perdóneme\\ndurmer - dormir\\nmetía - metía\\nsuanchar - sanchar\\nhaciéndo - haciendo\\nqueo - queo\\nfudra - fudre\\ncampament - campamento\\ncundinamarcar - cundinamarca\\ncumplar - cumplir\\nordóñez - ordóñez\\nhablarar - hablar\\nsaqué - saqué\\njulano - fulano\\nconel - coronel\\ncogimo - cogimos\\nvear - ver\\nbu - NA\\nlaa - la\\npaser - pasar\\nfuérar - fuera\\nllámr - llamar\\ncomoo - como\\nhablábar - hablaba\\nin - NA\\ntámara - NA\\ncóm - como\\nquecán - quecán\\nsuacha - NA\\nexcúsemer - excúseme\\nvo - NA\\ncair - caer\\nmeder - medir\\nsuaza - suaza\\ntamb - tamb\\nender - ender\\nlación - relación\\nllamém - llame\\nporo - poro\\nsamir - samir\\npóngalir - póngalo\\nbeltr - beltrán\\nlozado - lozano\\nacander - acandí\\ndaver - dávila\\ncuat - cuatro\\ndígalir - dígalo\\ntoar - toar\\ncuéntemer - cuénteme\\nprar - parar\\nquierar - quiera\\nelr - el\\nbrusela - bruselas\\nexplicarar - explicar\\njoyar - joya\\ntendríar - tendría\\ncontinuarer - continuar\\ncontinuer - continuar\\nfeur - feudo\\nsigar - seguir\\ncorosal - coral\\nmaestrado - maestrado\\nmicel - micer\\nestab - estaba\\novidio - ovidio\\nvalcitar - solicitar\\nveíar - veía\\nchibat - chibcha\\nchigorodar - chigorodó\\nestuviérar - estuviera\\nletrar - letra\\nparar- - parar\\ntorrer - torre\\nconar - conar\\nfu - fue\\nguaviare - NA\\njaimes - NA\\npued - puede\\nálvaro - NA\\naar - aar\\ndora - dora\\nespitia - NA\\nhaer - hacer\\nfuret - fuerte\\nlesión - NA\\n(si, se, refiere, a, \"lección\") - NA\\npasamontaña - NA\\n(si, se, refiere, a, \"pasamontañas\") - NA\\npáez - NA\\nvicencio - villavicencio\\nanaconar - anacona\\nentrarar - entrar\\nesperer - esperar\\nmatarlo - NA\\n(si, se, refiere, a, \"m'"
      ]
     },
     "execution_count": 63,
     "metadata": {},
     "output_type": "execute_result"
    }
   ],
   "source": []
  },
  {
   "cell_type": "code",
   "execution_count": 65,
   "id": "47c069da-e130-4c77-90f3-ee1e21472765",
   "metadata": {},
   "outputs": [],
   "source": [
    "# Convertir el texto a una lista de líneas\n",
    "lineas = respuesta.strip().split('\\n')\n",
    "\n",
    "# Crear listas para almacenar las palabras y sus correcciones\n",
    "palabras = []\n",
    "correcciones = []\n",
    "\n",
    "# Separar las palabras y correcciones\n",
    "for linea in lineas:\n",
    "    if \" - \" in linea:\n",
    "        palabra, correccion = linea.split(\" - \")\n",
    "        palabras.append(palabra.strip())\n",
    "        correcciones.append(correccion.strip())\n",
    "\n",
    "# Crear el DataFrame\n",
    "df_palabras = pd.DataFrame({'palabra': palabras, 'corrección': correcciones})\n"
   ]
  },
  {
   "cell_type": "code",
   "execution_count": 66,
   "id": "74b240cd-858e-4ff8-86e7-0addbe106f0f",
   "metadata": {},
   "outputs": [
    {
     "data": {
      "text/html": [
       "<div>\n",
       "<style scoped>\n",
       "    .dataframe tbody tr th:only-of-type {\n",
       "        vertical-align: middle;\n",
       "    }\n",
       "\n",
       "    .dataframe tbody tr th {\n",
       "        vertical-align: top;\n",
       "    }\n",
       "\n",
       "    .dataframe thead th {\n",
       "        text-align: right;\n",
       "    }\n",
       "</style>\n",
       "<table border=\"1\" class=\"dataframe\">\n",
       "  <thead>\n",
       "    <tr style=\"text-align: right;\">\n",
       "      <th></th>\n",
       "      <th>palabra</th>\n",
       "      <th>corrección</th>\n",
       "    </tr>\n",
       "  </thead>\n",
       "  <tbody>\n",
       "    <tr>\n",
       "      <th>0</th>\n",
       "      <td>sar</td>\n",
       "      <td>ser</td>\n",
       "    </tr>\n",
       "    <tr>\n",
       "      <th>1</th>\n",
       "      <td>s</td>\n",
       "      <td>es</td>\n",
       "    </tr>\n",
       "    <tr>\n",
       "      <th>2</th>\n",
       "      <td>tuvir</td>\n",
       "      <td>tuvo</td>\n",
       "    </tr>\n",
       "    <tr>\n",
       "      <th>3</th>\n",
       "      <td>veredir</td>\n",
       "      <td>vereda</td>\n",
       "    </tr>\n",
       "    <tr>\n",
       "      <th>4</th>\n",
       "      <td>lleguér</td>\n",
       "      <td>llegué</td>\n",
       "    </tr>\n",
       "    <tr>\n",
       "      <th>...</th>\n",
       "      <td>...</td>\n",
       "      <td>...</td>\n",
       "    </tr>\n",
       "    <tr>\n",
       "      <th>316</th>\n",
       "      <td>vicencio</td>\n",
       "      <td>villavicencio</td>\n",
       "    </tr>\n",
       "    <tr>\n",
       "      <th>317</th>\n",
       "      <td>anaconar</td>\n",
       "      <td>anacona</td>\n",
       "    </tr>\n",
       "    <tr>\n",
       "      <th>318</th>\n",
       "      <td>entrarar</td>\n",
       "      <td>entrar</td>\n",
       "    </tr>\n",
       "    <tr>\n",
       "      <th>319</th>\n",
       "      <td>esperer</td>\n",
       "      <td>esperar</td>\n",
       "    </tr>\n",
       "    <tr>\n",
       "      <th>320</th>\n",
       "      <td>matarlo</td>\n",
       "      <td>NA</td>\n",
       "    </tr>\n",
       "  </tbody>\n",
       "</table>\n",
       "<p>321 rows × 2 columns</p>\n",
       "</div>"
      ],
      "text/plain": [
       "      palabra     corrección\n",
       "0         sar            ser\n",
       "1           s             es\n",
       "2       tuvir           tuvo\n",
       "3     veredir         vereda\n",
       "4     lleguér         llegué\n",
       "..        ...            ...\n",
       "316  vicencio  villavicencio\n",
       "317  anaconar        anacona\n",
       "318  entrarar         entrar\n",
       "319   esperer        esperar\n",
       "320   matarlo             NA\n",
       "\n",
       "[321 rows x 2 columns]"
      ]
     },
     "execution_count": 66,
     "metadata": {},
     "output_type": "execute_result"
    }
   ],
   "source": [
    "df_palabras"
   ]
  },
  {
   "cell_type": "code",
   "execution_count": 67,
   "id": "c693f728-6074-4eed-be53-5710ccfcce65",
   "metadata": {},
   "outputs": [],
   "source": [
    "# Guardar el DataFrame como un archivo de texto\n",
    "df_palabras.to_csv('palabras_correcciones.txt', sep='\\t', index=False, header=False)\n"
   ]
  }
 ],
 "metadata": {
  "kernelspec": {
   "display_name": "Python 3 (ipykernel)",
   "language": "python",
   "name": "python3"
  },
  "language_info": {
   "codemirror_mode": {
    "name": "ipython",
    "version": 3
   },
   "file_extension": ".py",
   "mimetype": "text/x-python",
   "name": "python",
   "nbconvert_exporter": "python",
   "pygments_lexer": "ipython3",
   "version": "3.8.18"
  }
 },
 "nbformat": 4,
 "nbformat_minor": 5
}
