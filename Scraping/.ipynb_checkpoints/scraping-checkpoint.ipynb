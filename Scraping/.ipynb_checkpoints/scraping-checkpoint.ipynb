{
 "cells": [
  {
   "cell_type": "code",
   "execution_count": 1,
   "id": "da2fb7f0",
   "metadata": {},
   "outputs": [],
   "source": [
    "#pip install youtube_dl\n",
    "#!pip install pytube\n"
   ]
  },
  {
   "cell_type": "code",
   "execution_count": 4,
   "id": "ac0f586c-1df8-473f-b8c9-cab231f61151",
   "metadata": {},
   "outputs": [],
   "source": [
    "from youtube_transcript_api import YouTubeTranscriptApi\n",
    "import youtube_dl\n",
    "from pytube import Playlist\n",
    "import re\n",
    "import pandas as pd\n",
    "import os\n",
    "\n",
    "\n",
    "directorio='C:/Users/Cesar Prieto/Documents'"
   ]
  },
  {
   "cell_type": "code",
   "execution_count": 5,
   "id": "61714665-bb77-417d-9a9e-b2a6bb0b98c5",
   "metadata": {},
   "outputs": [],
   "source": [
    "def obtener_enlaces_lista_reproduccion(url_lista):\n",
    "    # Configuración de youtube_dl para obtener solo los enlaces de la lista de reproducción\n",
    "    ydl_opts = {'extract_flat': True}\n",
    "\n",
    "    with youtube_dl.YoutubeDL(ydl_opts) as ydl:\n",
    "        # Obtener información de la lista de reproducción\n",
    "        playlist_info = ydl.extract_info(url_lista, download=False)\n",
    "        \n",
    "        # Extraer los enlaces de los videos de la lista de reproducción\n",
    "        enlaces = [video['url'] for video in playlist_info['entries']]\n",
    "\n",
    "    return enlaces\n",
    "\n",
    "def obtener_subtitulos_video(url_video):\n",
    "    try:\n",
    "        srt = YouTubeTranscriptApi.get_transcript(url_video, languages=['es'])\n",
    "        subtitulos = [i['text'] for i in srt]\n",
    "        subtitulos = ' '.join(subtitulos)\n",
    "        return subtitulos\n",
    "    except:\n",
    "        return None\n",
    "\n",
    "def obtener_subtitulos_videos(lista_enlaces):\n",
    "    subtitulos = []\n",
    "    for enlace in lista_enlaces:\n",
    "        sub = obtener_subtitulos_video(enlace)\n",
    "        if sub:\n",
    "            subtitulos.append(sub)\n",
    "        else:\n",
    "            subtitulos.append(None)  # Agrega None si no hay subtítulos\n",
    "    return subtitulos\n",
    "def obtener_titulos_lista_reproduccion(url_lista):\n",
    "    # Configuración de yt-dlp para extraer solo información básica\n",
    "    ydl_opts = {\n",
    "        'extract_flat': True,\n",
    "        'quiet': True\n",
    "    }\n",
    "\n",
    "    with youtube_dl.YoutubeDL(ydl_opts) as ydl:\n",
    "        playlist_info = ydl.extract_info(url_lista, download=False)\n",
    "        \n",
    "        # Extraer solo los títulos de los videos de la lista de reproducción\n",
    "        titulos = [video['title'] for video in playlist_info['entries']]\n",
    "    \n",
    "    return titulos"
   ]
  },
  {
   "cell_type": "code",
   "execution_count": 6,
   "id": "a4282121-f9a0-44da-b304-1377e38896f2",
   "metadata": {
    "scrolled": true
   },
   "outputs": [
    {
     "name": "stdout",
     "output_type": "stream",
     "text": [
      "[youtube:tab] PLbtegW3d3L4IP1S5w5_jxrCtI686L03dh: Downloading webpage\n",
      "[download] Downloading playlist: Caso 03| SUBCASO META\n",
      "[youtube:tab] Downloading page 1\n",
      "[youtube:tab] playlist Caso 03| SUBCASO META: Downloading 4 videos\n",
      "[download] Downloading video 1 of 4\n",
      "[download] Downloading video 2 of 4\n",
      "[download] Downloading video 3 of 4\n",
      "[download] Downloading video 4 of 4\n",
      "[download] Finished downloading playlist: Caso 03| SUBCASO META\n"
     ]
    }
   ],
   "source": [
    "\n",
    "# lista de los url caso 3 por lista de reproduccion\n",
    "# Se cambio el link para probar un SubCaso\n",
    "lista_enlaces= obtener_enlaces_lista_reproduccion('https://www.youtube.com/playlist?list=PLbtegW3d3L4IP1S5w5_jxrCtI686L03dh')\n",
    "# obtener los subtitulos de los videos caso 7 por lista de reproduccion\n",
    "subtitulos= obtener_subtitulos_videos(lista_enlaces)\n"
   ]
  },
  {
   "cell_type": "code",
   "execution_count": 8,
   "id": "da685244-1388-4eb6-a0d9-e0bbf3c75719",
   "metadata": {
    "scrolled": true
   },
   "outputs": [],
   "source": [
    "titulos_videos = obtener_titulos_lista_reproduccion('https://www.youtube.com/playlist?list=PLbtegW3d3L4IP1S5w5_jxrCtI686L03dh')\n"
   ]
  },
  {
   "cell_type": "code",
   "execution_count": 7,
   "id": "6e73d7ba-1425-4356-9eb1-d24789394bde",
   "metadata": {},
   "outputs": [
    {
     "data": {
      "text/plain": [
       "4"
      ]
     },
     "execution_count": 7,
     "metadata": {},
     "output_type": "execute_result"
    }
   ],
   "source": [
    "len(subtitulos)"
   ]
  },
  {
   "cell_type": "code",
   "execution_count": 9,
   "id": "e12fd843-d446-4002-a85f-08fd5cf17ecb",
   "metadata": {},
   "outputs": [],
   "source": [
    "df = pd.DataFrame({\n",
    "    'Titulo': titulos_videos,\n",
    "    'Subtitulos': subtitulos\n",
    "})"
   ]
  },
  {
   "cell_type": "code",
   "execution_count": 7,
   "id": "89f0f6d6-2ca5-4022-828e-34a55f0c5a22",
   "metadata": {},
   "outputs": [],
   "source": [
    "df.to_csv('Sub.csv', index=False, encoding='utf-8-sig')\n",
    "\n"
   ]
  }
 ],
 "metadata": {
  "kernelspec": {
   "display_name": "Python 3 (ipykernel)",
   "language": "python",
   "name": "python3"
  },
  "language_info": {
   "codemirror_mode": {
    "name": "ipython",
    "version": 3
   },
   "file_extension": ".py",
   "mimetype": "text/x-python",
   "name": "python",
   "nbconvert_exporter": "python",
   "pygments_lexer": "ipython3",
   "version": "3.11.7"
  }
 },
 "nbformat": 4,
 "nbformat_minor": 5
}
